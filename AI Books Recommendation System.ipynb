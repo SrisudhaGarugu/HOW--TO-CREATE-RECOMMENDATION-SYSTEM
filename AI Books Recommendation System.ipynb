{
 "cells": [
  {
   "cell_type": "code",
   "execution_count": 1,
   "id": "f08a1f77",
   "metadata": {},
   "outputs": [
    {
     "name": "stdout",
     "output_type": "stream",
     "text": [
      "Index(['Rating', 'Reviews', 'Title', 'Description', 'Number_Of_Pages', 'Type',\n",
      "       'Price'],\n",
      "      dtype='object')\n"
     ]
    }
   ],
   "source": [
    "import pandas as pd\n",
    "\n",
    "# Load the dataset\n",
    "books = pd.read_csv('top_270_computer_science_books.csv')\n",
    "\n",
    "# Display column names\n",
    "print(books.columns)\n"
   ]
  },
  {
   "cell_type": "code",
   "execution_count": 2,
   "id": "9182fa47",
   "metadata": {},
   "outputs": [],
   "source": [
    "# Handle missing values\n",
    "books['Description'] = books['Description'].fillna('')\n",
    "\n",
    "# Combine title and description for similarity matching\n",
    "books['combined_features'] = books['Title'] + ' ' + books['Description']\n"
   ]
  },
  {
   "cell_type": "code",
   "execution_count": 3,
   "id": "fd5185f2",
   "metadata": {},
   "outputs": [],
   "source": [
    "from sklearn.feature_extraction.text import TfidfVectorizer\n",
    "from sklearn.metrics.pairwise import cosine_similarity\n",
    "\n",
    "# Initialize TF-IDF Vectorizer\n",
    "tfidf = TfidfVectorizer(stop_words='english')\n",
    "\n",
    "# Fit and transform the combined features\n",
    "tfidf_matrix = tfidf.fit_transform(books['combined_features'])\n",
    "\n",
    "# Compute similarity scores\n",
    "cosine_sim = cosine_similarity(tfidf_matrix, tfidf_matrix)\n"
   ]
  },
  {
   "cell_type": "code",
   "execution_count": 4,
   "id": "f229ba98",
   "metadata": {},
   "outputs": [
    {
     "data": {
      "text/plain": [
       "0"
      ]
     },
     "execution_count": 4,
     "metadata": {},
     "output_type": "execute_result"
    }
   ],
   "source": [
    "import os\n",
    "\n",
    "os.system(\"pip install streamlit\")\n"
   ]
  },
  {
   "cell_type": "code",
   "execution_count": 5,
   "id": "7aacf29a",
   "metadata": {},
   "outputs": [
    {
     "data": {
      "text/plain": [
       "0"
      ]
     },
     "execution_count": 5,
     "metadata": {},
     "output_type": "execute_result"
    }
   ],
   "source": [
    "import os\n",
    "os.system(\"pip install -U scikit-learn\")\n"
   ]
  },
  {
   "cell_type": "code",
   "execution_count": 6,
   "id": "4f2bd376",
   "metadata": {},
   "outputs": [
    {
     "name": "stderr",
     "output_type": "stream",
     "text": [
      "2025-02-24 14:43:34.382 WARNING streamlit.runtime.caching.cache_data_api: No runtime found, using MemoryCacheStorageManager\n",
      "2025-02-24 14:43:34.386 WARNING streamlit.runtime.caching.cache_data_api: No runtime found, using MemoryCacheStorageManager\n",
      "2025-02-24 14:43:34.388 WARNING streamlit.runtime.scriptrunner_utils.script_run_context: Thread 'MainThread': missing ScriptRunContext! This warning can be ignored when running in bare mode.\n",
      "2025-02-24 14:43:35.193 \n",
      "  \u001b[33m\u001b[1mWarning:\u001b[0m to view this Streamlit app on a browser, run it with the following\n",
      "  command:\n",
      "\n",
      "    streamlit run C:\\ProgramData\\anaconda3\\Lib\\site-packages\\ipykernel_launcher.py [ARGUMENTS]\n",
      "2025-02-24 14:43:35.193 Thread 'MainThread': missing ScriptRunContext! This warning can be ignored when running in bare mode.\n",
      "2025-02-24 14:43:35.195 Thread 'MainThread': missing ScriptRunContext! This warning can be ignored when running in bare mode.\n",
      "2025-02-24 14:43:35.210 Thread 'MainThread': missing ScriptRunContext! This warning can be ignored when running in bare mode.\n",
      "2025-02-24 14:43:35.213 Thread 'MainThread': missing ScriptRunContext! This warning can be ignored when running in bare mode.\n",
      "2025-02-24 14:43:35.216 Thread 'MainThread': missing ScriptRunContext! This warning can be ignored when running in bare mode.\n",
      "2025-02-24 14:43:35.218 Thread 'MainThread': missing ScriptRunContext! This warning can be ignored when running in bare mode.\n",
      "2025-02-24 14:43:35.219 Thread 'MainThread': missing ScriptRunContext! This warning can be ignored when running in bare mode.\n",
      "2025-02-24 14:43:35.221 Thread 'MainThread': missing ScriptRunContext! This warning can be ignored when running in bare mode.\n",
      "2025-02-24 14:43:35.222 Thread 'MainThread': missing ScriptRunContext! This warning can be ignored when running in bare mode.\n",
      "2025-02-24 14:43:35.223 Thread 'MainThread': missing ScriptRunContext! This warning can be ignored when running in bare mode.\n",
      "2025-02-24 14:43:35.225 Thread 'MainThread': missing ScriptRunContext! This warning can be ignored when running in bare mode.\n",
      "2025-02-24 14:43:35.226 Thread 'MainThread': missing ScriptRunContext! This warning can be ignored when running in bare mode.\n",
      "2025-02-24 14:43:35.228 Thread 'MainThread': missing ScriptRunContext! This warning can be ignored when running in bare mode.\n",
      "2025-02-24 14:43:35.230 Thread 'MainThread': missing ScriptRunContext! This warning can be ignored when running in bare mode.\n",
      "2025-02-24 14:43:35.231 Session state does not function when running a script without `streamlit run`\n",
      "2025-02-24 14:43:35.233 Thread 'MainThread': missing ScriptRunContext! This warning can be ignored when running in bare mode.\n",
      "2025-02-24 14:43:35.234 Thread 'MainThread': missing ScriptRunContext! This warning can be ignored when running in bare mode.\n",
      "2025-02-24 14:43:35.236 No runtime found, using MemoryCacheStorageManager\n",
      "2025-02-24 14:43:35.238 No runtime found, using MemoryCacheStorageManager\n",
      "2025-02-24 14:43:35.240 Thread 'MainThread': missing ScriptRunContext! This warning can be ignored when running in bare mode.\n",
      "2025-02-24 14:43:35.241 Thread 'MainThread': missing ScriptRunContext! This warning can be ignored when running in bare mode.\n",
      "2025-02-24 14:43:35.243 Thread 'MainThread': missing ScriptRunContext! This warning can be ignored when running in bare mode.\n",
      "2025-02-24 14:43:35.269 Thread 'MainThread': missing ScriptRunContext! This warning can be ignored when running in bare mode.\n",
      "2025-02-24 14:43:35.270 Thread 'MainThread': missing ScriptRunContext! This warning can be ignored when running in bare mode.\n",
      "2025-02-24 14:43:35.272 Thread 'MainThread': missing ScriptRunContext! This warning can be ignored when running in bare mode.\n",
      "2025-02-24 14:43:35.273 Thread 'MainThread': missing ScriptRunContext! This warning can be ignored when running in bare mode.\n",
      "2025-02-24 14:43:35.275 Thread 'MainThread': missing ScriptRunContext! This warning can be ignored when running in bare mode.\n",
      "2025-02-24 14:43:35.276 Thread 'MainThread': missing ScriptRunContext! This warning can be ignored when running in bare mode.\n",
      "2025-02-24 14:43:35.277 Thread 'MainThread': missing ScriptRunContext! This warning can be ignored when running in bare mode.\n"
     ]
    }
   ],
   "source": [
    "import os\n",
    "import streamlit as st\n",
    "import pandas as pd\n",
    "import numpy as np\n",
    "from sklearn.feature_extraction.text import TfidfVectorizer\n",
    "from sklearn.metrics.pairwise import cosine_similarity\n",
    "\n",
    "# Ensure necessary packages are installed\n",
    "os.system(\"pip install streamlit pandas scikit-learn\")\n",
    "\n",
    "# Load the dataset\n",
    "@st.cache_data\n",
    "def load_data():\n",
    "    df = pd.read_csv(\"top_270_computer_science_books.csv\")  # Change to your dataset file\n",
    "    return df\n",
    "\n",
    "df = load_data()\n",
    "\n",
    "# Ensure dataset is not empty\n",
    "if df.empty:\n",
    "    st.error(\"Error: Dataset not loaded properly. Check file path.\")\n",
    "    st.stop()\n",
    "\n",
    "# Fix column name case sensitivity\n",
    "df.rename(columns={\"Title\": \"title\"}, inplace=True)\n",
    "\n",
    "# Streamlit UI\n",
    "st.title(\"📚 AI Book Recommendation System\")  # Fix incorrect function name `st.Title`\n",
    "st.write(\"Enter a book title to get recommendations.\")\n",
    "\n",
    "# User input\n",
    "book_title = st.text_input(\"Enter Book Title\", \"\").strip()\n",
    "\n",
    "# Ensure the dataset has a title column\n",
    "if \"title\" not in df.columns:\n",
    "    st.error(\"Error: Dataset must have a 'title' column.\")\n",
    "    st.stop()\n",
    "\n",
    "# Text Processing: TF-IDF Vectorization\n",
    "@st.cache_data\n",
    "def compute_similarity():\n",
    "    tfidf = TfidfVectorizer(stop_words=\"english\")\n",
    "    tfidf_matrix = tfidf.fit_transform(df[\"title\"].astype(str))\n",
    "    return cosine_similarity(tfidf_matrix)\n",
    "\n",
    "similarity_matrix = compute_similarity()\n",
    "\n",
    "# Recommend books based on cosine similarity\n",
    "def recommend_books(title, df, similarity_matrix):\n",
    "    if title not in df[\"title\"].values:\n",
    "        return [\"Book not found in dataset.\"]\n",
    "    \n",
    "    idx = df[df[\"title\"] == title].index[0]\n",
    "    scores = list(enumerate(similarity_matrix[idx]))\n",
    "    sorted_scores = sorted(scores, key=lambda x: x[1], reverse=True)[1:6]  # Top 5 recommendations\n",
    "    recommended_books = [df.iloc[i[0]][\"title\"] for i in sorted_scores]\n",
    "    return recommended_books\n",
    "\n",
    "if st.button(\"Get Recommendations\"):\n",
    "    if book_title:\n",
    "        recommendations = recommend_books(book_title, df, similarity_matrix)\n",
    "        st.write(\"### Recommended Books:\")\n",
    "        for book in recommendations:\n",
    "            st.write(f\"- {book}\")\n",
    "    else:\n",
    "        st.warning(\"Please enter a book title.\")\n"
   ]
  },
  {
   "cell_type": "code",
   "execution_count": 7,
   "id": "e9eed6a9",
   "metadata": {},
   "outputs": [
    {
     "data": {
      "text/plain": [
       "0"
      ]
     },
     "execution_count": 7,
     "metadata": {},
     "output_type": "execute_result"
    }
   ],
   "source": [
    "import os\n",
    "os.system('jupyter nbconvert --to script \"Books Recommendation System.ipynb\"')\n"
   ]
  },
  {
   "cell_type": "code",
   "execution_count": null,
   "id": "7beb6b3d",
   "metadata": {},
   "outputs": [],
   "source": [
    "#in cmd prompt ----   streamlit run \"Books Recommendation System.py\"\n"
   ]
  }
 ],
 "metadata": {
  "kernelspec": {
   "display_name": "Python 3 (ipykernel)",
   "language": "python",
   "name": "python3"
  },
  "language_info": {
   "codemirror_mode": {
    "name": "ipython",
    "version": 3
   },
   "file_extension": ".py",
   "mimetype": "text/x-python",
   "name": "python",
   "nbconvert_exporter": "python",
   "pygments_lexer": "ipython3",
   "version": "3.11.5"
  }
 },
 "nbformat": 4,
 "nbformat_minor": 5
}
